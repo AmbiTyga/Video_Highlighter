{
 "cells": [
  {
   "cell_type": "code",
   "execution_count": 1,
   "metadata": {},
   "outputs": [],
   "source": [
    "!package.sh"
   ]
  },
  {
   "cell_type": "code",
   "execution_count": 0,
   "metadata": {
    "colab": {},
    "colab_type": "code",
    "id": "akBpr-T2rFFZ"
   },
   "outputs": [],
   "source": [
    "import youtube_dl\n",
    "import pandas as pd\n",
    "import librosa\n",
    "import numpy as np"
   ]
  },
  {
   "cell_type": "code",
   "execution_count": 0,
   "metadata": {
    "colab": {},
    "colab_type": "code",
    "id": "pNFCnNd0mGIf"
   },
   "outputs": [],
   "source": [
    "## Input of video link\n",
    "url = input(\"Enter video's link :\")"
   ]
  },
  {
   "cell_type": "code",
   "execution_count": 0,
   "metadata": {
    "colab": {},
    "colab_type": "code",
    "id": "yqQ6MeQ4rRem"
   },
   "outputs": [],
   "source": [
    "## for downloading audio\n",
    "audio_opts = {\n",
    "    \n",
    "    'format': '251',## to change refer to https://github.com/ytdl-org/youtube-dl#format-selection\n",
    "    'quiet':True,\n",
    "    'postprocessors': [{\n",
    "        'key': 'FFmpegExtractAudio',\n",
    "        'preferredquality': '192',\n",
    "    }],\n",
    "    'restrictfilenames':True,\n",
    "    'forcefilename':True,\n",
    "    'outtmpl':'/dataset/audio_%(id)s.opus',\n",
    "    \n",
    "}\n",
    "#print('https://www.youtube.com/watch?v=ODm-DmMW31k is 11Hour','https://www.youtube.com/watch?v=02I5vVxlJhU is 81mins',sep='\\n')\n",
    "\n",
    "## Download Audio\n",
    "with youtube_dl.YoutubeDL(audio_opts) as ydl:\n",
    "    ydl.download([url])\n",
    "    info_dict = ydl.extract_info(url, download=False)\n",
    "    audio_name = ydl.prepare_filename(info_dict)\n",
    "    #print(audio_name)"
   ]
  },
  {
   "cell_type": "code",
   "execution_count": 0,
   "metadata": {
    "colab": {},
    "colab_type": "code",
    "id": "58-7FzM5zicQ"
   },
   "outputs": [],
   "source": [
    "## for downloading video\n",
    "video_opts = {\n",
    "    \n",
    "    'format': '243',## to change refer to https://github.com/ytdl-org/youtube-dl#format-selection\n",
    "    'quiet':True,\n",
    "    'outtmpl':'/dataset/video_%(id)s.%(ext)s',\n",
    "    \n",
    "}\n",
    "#print('https://www.youtube.com/watch?v=ODm-DmMW31k is 11Hour','https://www.youtube.com/watch?v=02I5vVxlJhU is 81mins',sep='\\n')\n",
    "## Download video \n",
    "with youtube_dl.YoutubeDL(video_opts) as ydl:\n",
    "    ydl.download([url])\n",
    "    info_dict = ydl.extract_info(url, download=False)\n",
    "    video_name = ydl.prepare_filename(info_dict)\n",
    "    #print(video_name)"
   ]
  },
  {
   "cell_type": "code",
   "execution_count": 0,
   "metadata": {
    "colab": {},
    "colab_type": "code",
    "id": "XMKIDzhSsHtH"
   },
   "outputs": [],
   "source": [
    "## x -> audio data\n",
    "## sr -> sample rate\n",
    "x, sr = librosa.load(audio_name)"
   ]
  },
  {
   "cell_type": "code",
   "execution_count": 0,
   "metadata": {
    "colab": {},
    "colab_type": "code",
    "id": "lQ_yCrLyZ0oX"
   },
   "outputs": [],
   "source": [
    "## Creating a 5 second window of data\n",
    "max_slice=5 \n",
    "window_length = max_slice * sr\n",
    "\n",
    "## Audience energy from the tournament to select clip\n",
    "energy = np.array([sum(abs(x[i:i+window_length]**2)) for i in range(0, len(x), window_length)])\n",
    "energy = np.sort(energy)"
   ]
  },
  {
   "cell_type": "code",
   "execution_count": 0,
   "metadata": {
    "colab": {},
    "colab_type": "code",
    "id": "wic0cH7WaO8j"
   },
   "outputs": [],
   "source": [
    "## To analyse energy's frquency\n",
    "#import matplotlib.pyplot as plt \n",
    "#plt.hist(energy) \n",
    "#plt.show()\n",
    "#plt.boxplot(energy)\n",
    "#plt.show()"
   ]
  },
  {
   "cell_type": "code",
   "execution_count": 0,
   "metadata": {
    "colab": {},
    "colab_type": "code",
    "id": "nEXiOuBUbDMf"
   },
   "outputs": [],
   "source": [
    "## Dataframe for analysing\n",
    "df=pd.DataFrame(columns=['energy','start','end'])\n",
    "thresh=np.median(energy[int(energy.shape[0]/2):])\n",
    "row_index=0\n",
    "for i in range(len(energy)):\n",
    "  value=energy[i]\n",
    "  if(value>=thresh):\n",
    "    i=np.where(energy == value)[0]\n",
    "    df.loc[row_index,'energy']=value\n",
    "    df.loc[row_index,'start']=i[0] * 5\n",
    "    df.loc[row_index,'end']=(i[0]+1) * 5\n",
    "    row_index= row_index + 1"
   ]
  },
  {
   "cell_type": "code",
   "execution_count": 0,
   "metadata": {
    "colab": {},
    "colab_type": "code",
    "id": "HNQq9z23yuOx"
   },
   "outputs": [],
   "source": [
    "## Merging continous clips\n",
    "temp=[]\n",
    "i=0\n",
    "j=0\n",
    "n=len(df) - 2\n",
    "m=len(df) - 1\n",
    "while(i<=n):\n",
    "  j=i+1\n",
    "  while(j<=m):\n",
    "    ## if nth clip's ending is (n+1)th clip's starting\n",
    "    if(df['end'][i] == df['start'][j]):\n",
    "      ## replace nth end with (n+1)th end\n",
    "      df.loc[i,'end'] = df.loc[j,'end']\n",
    "      temp.append(j)\n",
    "      j=j+1\n",
    "    else:\n",
    "      i=j\n",
    "      break  \n",
    "df.drop(temp,axis=0,inplace=True)"
   ]
  },
  {
   "cell_type": "code",
   "execution_count": 0,
   "metadata": {
    "colab": {
     "base_uri": "https://localhost:8080/",
     "height": 241
    },
    "colab_type": "code",
    "id": "B-vQigSlzLXf",
    "outputId": "4eb2fba3-30d8-4be2-8432-49066b6be520"
   },
   "outputs": [
    {
     "name": "stdout",
     "output_type": "stream",
     "text": [
      "\n",
      "[MoviePy] Running:\n",
      ">>> /usr/bin/ffmpeg -y -i /content/KqF-UugOgp0.mp4 -ss 105.00 -t 5.00 -vcodec copy -acodec copy drive/My Drive/highlight1.mp4\n",
      "... command successful.\n",
      "\n",
      "[MoviePy] Running:\n",
      ">>> /usr/bin/ffmpeg -y -i /content/KqF-UugOgp0.mp4 -ss 720.00 -t 10.00 -vcodec copy -acodec copy drive/My Drive/highlight2.mp4\n",
      "... command successful.\n",
      "\n",
      "[MoviePy] Running:\n",
      ">>> /usr/bin/ffmpeg -y -i /content/KqF-UugOgp0.mp4 -ss 2745.00 -t 15.00 -vcodec copy -acodec copy drive/My Drive/highlight3.mp4\n",
      "... command successful.\n"
     ]
    }
   ],
   "source": [
    "## Extracts video's highlight\n",
    "from moviepy.video.io.ffmpeg_tools import ffmpeg_extract_subclip\n",
    "start=np.array(df['start'])\n",
    "end=np.array(df['end'])\n",
    "for i in range(len(df)):\n",
    " if(i!=0):\n",
    "  start_lim = start[i] - 5\n",
    " else:\n",
    "  start_lim = start[i] \n",
    " end_lim   = end[i]   \n",
    " filename=\"output/highlight\" + str(i+1) + \".mp4\"\n",
    " ffmpeg_extract_subclip(video_name,start_lim,end_lim,targetname=filename)"
   ]
  },
  {
   "cell_type": "code",
   "execution_count": 0,
   "metadata": {
    "colab": {},
    "colab_type": "code",
    "id": "X3Fb64tT0qca"
   },
   "outputs": [],
   "source": []
  }
 ],
 "metadata": {
  "colab": {
   "collapsed_sections": [],
   "name": "hContent.ipynb",
   "provenance": [],
   "toc_visible": true
  },
  "kernelspec": {
   "display_name": "Python 3",
   "language": "python",
   "name": "python3"
  },
  "language_info": {
   "codemirror_mode": {
    "name": "ipython",
    "version": 3
   },
   "file_extension": ".py",
   "mimetype": "text/x-python",
   "name": "python",
   "nbconvert_exporter": "python",
   "pygments_lexer": "ipython3",
   "version": "3.7.4"
  }
 },
 "nbformat": 4,
 "nbformat_minor": 1
}
